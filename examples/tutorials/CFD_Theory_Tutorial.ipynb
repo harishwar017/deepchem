{
  "cells": [
    {
      "cell_type": "markdown",
      "metadata": {
        "id": "CDsqH_AFrCno"
      },
      "source": [
        "# CFD : An Introduction\n",
        "\n",
        "Author : [Harishwar Adithya](https://github.com/harishwar017) : [Linkedin](https://www.linkedin.com/in/harishwar-adithya-s-5499b922a/)\n",
        "\n",
        "\n",
        "[![Open In Colab](https://colab.research.google.com/assets/colab-badge.svg)](https://colab.research.google.com/drive/1x1_EexmiTk01dsAbdfopWKWbIGENiXC1?usp=sharing)\n",
        "\n",
        "Imagine yourself by a river, observing the currents weave around rocks, or envision the swift rush of air as a car speeds by. This is the enchantment of **fluid dynamics** — the exploration of how liquids and gases move and behave. Amidst this captivating spectacle, one question persists: How do we unravel the complexities of fluid flow to study and comprehend it?\n"
      ]
    },
    {
      "cell_type": "markdown",
      "metadata": {
        "id": "qTbZlATESUUj"
      },
      "source": [
        "**Understanding Fluid Dynamics and Its Applications**\n",
        "\n",
        "Fluid dynamics play crucial roles in various fields, from engineering to biology. In this tutorial, we'll delve into the fundamentals of fluid dynamics, explain what CFD is, explore how these concepts are applied in scientific research and finally the limitations.\n",
        "\n",
        "1. **What is Fluid Dynamics**?\n",
        "\n",
        "   Our journey begins with the basics. Fluid dynamics is all about studying how   fluids—whether it's the water in a river or the air around an airplane—move and   interact with their surroundings. But how can they be predicted? To do exactlythat    scientists discovered something amazing: no matter how tricky the flowgets, they    always follow some basic rules, like keeping mass, momentum, andenergy in check. This    discovery helped scientists predict how fluids flow, evenin the most complex    situations.\n",
        "\n",
        "   And then, a new chapter began with the advent of Computational Fluid Dynamics (CFD). Using powerful computers, scientists could now dive even deeper into the secrets of fluid flow, simulating intricate movements and phenomena with incredible accuracy. With CFD, the realm of fluid dynamics expanded, opening up new possibilities for exploration and innovation, and paving the way for groundbreaking discoveries that continue to shape our world today.\n",
        "\n",
        "   It's like having a virtual laboratory where scientists and engineers can simulate fluid flow and heat transfer phenomena using nothing but numbers and algorithms.\n",
        "\n",
        "3. **Computational Fluid Dynamics (CFD): A Deeper Look**\n",
        "\n",
        "   Scientists started wielding the power of computers to simulate fluid flow and heat transfer. They discretize the fluid domain into tiny cells, solve mathematical equations using clever algorithms, and unlock the mysteries of fluid behavior\n",
        "  \n",
        "   - The governing equations of fluid flow include, conservation of mass, momentum, and energy, are then discretized and solved numerically on this grid to predict the fuild flow.\n",
        "\n",
        "   - CFD simulations can provide detailed insights into complex fluid flow phenomena, such as turbulence, laminar flow, boundary layer separation, heat transfer, and multiphase flow. By accurately modeling and predicting fluid flow behavior, CFD enables engineers and scientists to optimize the design of engineering systems, improve product performance, and solve challenging fluid dynamics problems in diverse fields such as aerospace, automotive, energy, environmental engineering, biomedical engineering, and more.\n",
        "\n",
        "   - CFD simulations provide insights into complex fluid behavior that are difficult or impossible to achieve through experiments alone.\n",
        "\n",
        "4. **Applications of CFD in Biological and Chemical Research:**\n",
        "  \n",
        "- Optimizing drug formulation and dosage.\n",
        "- Designing medical devices like stents and heart valves.\n",
        "- Simulating blood flow through arteries and veins.\n",
        "- Modeling the flow of cerebrospinal fluid to understand conditions like hydrocephalus.\n",
        "\n"
      ]
    },
    {
      "cell_type": "markdown",
      "metadata": {
        "id": "LkIMGs8iw5IE"
      },
      "source": [
        "### **Exploring CFD Theory: Equations and Fundamentals**\n",
        "\n",
        "But wait, there's more! We dive into the nitty-gritty of CFD theory, unraveling equations like the Navier-Stokes equations and the energy equation. These equations may look daunting, but they hold the keys to understanding fluid flow at a fundamental level\n",
        "\n",
        "**The theory behind CFD relies on fundamental equations governing fluid flow:**\n",
        "\n",
        "Like we said all thee equations stem from the fundamental laws we all know.\n",
        "\n",
        "1. Continuity Equation: Conservation of mass.\n",
        "2. Navier-Stokes Equations: Conservation of momentum.\n",
        "3. Energy Equation: Conservation of energy.\n",
        "4. Equation of State: Thermodynamic relationship.\n",
        "\n",
        "**Let's delve deeper into these fundamental equations**:\n",
        "1. **Continuity Equation**: The continuity equation represents the conservation of mass in fluid flow. It states that the rate of change of mass within a control volume is equal to the net mass flux across its boundaries.\n",
        "\n",
        "  $ \\frac{d{\\textstyle \\rho }}{dt} + ∇.({\\textstyle \\rho }v) = 0 $\n",
        "\n",
        "  \n",
        "  $ \\frac{d{\\textstyle \\rho }}{dt} $ : This term represents the rate of change of density (ρ) within the fluid with respect to time (t). If the density within the fluid changes over time, this term captures that variation.\n",
        "  \n",
        "\n",
        "   $ ∇.({\\textstyle \\rho }v)$ : This term represents the divergence of the mass flux density vector ρv, where ρ is the density of the fluid and v is the velocity vector of the fluid. Divergence is a measure of how a vector field spreads out from a point. In this context, it represents how mass is flowing into or out of the control volume at any given point.\n",
        "\n",
        "\n",
        "This equation symbolizes that the sum of the rate of change of density and the divergence of the mass flux density vector is zero. **In other words, the total mass within the control volume remains constant over time if there is no mass added or removed from the system**\n",
        "\n",
        "\n",
        "2. **Navier-Stokes Equations**: The Navier-Stokes equations describe the conservation of momentum in fluid flow. They consist of three equations representing the conservation of momentum in the x, y, and z directions, accounting for pressure, viscosity, and external forces.\n",
        "\n",
        "  $ \\frac{d{(\\textstyle \\rho }u)}{dt} + ∇⋅({\\textstyle \\rho } u $ v) = $ -\\frac{d{(p})}{dx} + μ∇^2 u + fx$\n",
        "\n",
        "  $ \\frac{d{(\\textstyle \\rho }v)}{dt} + ∇⋅({\\textstyle \\rho } v $ v) = $ -\\frac{d{(p})}{dy} + μ∇^2 v + fy$\n",
        "\n",
        "  $ \\frac{d{(\\textstyle \\rho }w)}{dt} + ∇⋅({\\textstyle \\rho } w $ v) = $ -\\frac{d{(p})}{dz} + μ∇^2 w + fz$\n",
        "\n",
        "Let's go through all the terms involved in the $x$ direction, (same applies for the other two) :\n",
        "\n",
        "$ \\frac{d{(\\textstyle \\rho }u)}{dt} $ : This term represents the rate of change of momentum density in the x-direction (u) with respect to time (t), where ρ is the density of the fluid and u is the velocity component in the x-direction.\n",
        "\n",
        "$∇⋅({\\textstyle \\rho } u $ v) : This term represents the divergence of the momentum flux density vector ρu × v, where v is the velocity vector of the fluid. Divergence is a measure of how a vector field spreads out from a point. In this context, it represents how momentum is flowing into or out of the control volume at any given point.\n",
        "\n",
        "$ -\\frac{d{(p})}{dx}$ : This term represents the rate of change of pressure (p) with respect to the x-direction. It describes how pressure gradients contribute to changes in momentum in the x-direction.\n",
        "\n",
        "$μ∇^2 u $: This term represents the viscous forces acting on the fluid, where\n",
        "μ is the dynamic viscosity of the fluid and $μ∇^2 u$ is the Laplacian operator applied to the velocity vector u. It describes how the fluid's viscosity influences its resistance to deformation and flow.\n",
        "\n",
        "$fx$ : This term represents external forces acting on the fluid in the x-direction, such as gravitational forces or forces applied externally.\n",
        "\n",
        "In simpler terms, the Navier-Stokes equations describe how the velocity of a fluid changes over time due to various factors such as pressure gradients, viscous forces, and external forces. These equations are crucial for understanding and predicting fluid motion in a wide range of applications, from airflow around aircraft to blood flow in the human body\n",
        "\n",
        "3. **Energy Equation**: In simpler terms, the energy equation describes how energy is distributed and conserved within a fluid flow. It takes into account the contributions from kinetic energy, gravitational potential energy, and pressure, ensuring that the total energy of the fluid remains constant over time, barring any external sources or sinks of energy. This equation is essential for understanding the thermal behavior of fluids and is used in various applications, from HVAC systems to modeling natural phenomena like ocean currents.\n",
        "\n",
        "   $ \\frac{1}{2}{\\textstyle \\rho }v^2+ ∇⋅({\\textstyle \\rho } g $ h) + P = constant\n",
        "\n",
        "\n",
        "   $ \\frac{1}{2}{\\textstyle \\rho }v^2$ : This term represents the kinetic energy density of the fluid, where ρ is the density of the fluid and v is the velocity of the fluid. It describes the energy associated with the movement of fluid particles.\n",
        "\n",
        "   $∇⋅({\\textstyle \\rho } g $ h) : This term represents the divergence of the gravitational potential energy density vector $ρg × h$, where $g$ is the acceleration due to gravity and $h$ is the height of the fluid. Divergence is a measure of how a vector field spreads out from a point. In this context, it represents how gravitational potential energy is distributed throughout the fluid.\n",
        "\n",
        "4. **Equation of State**: The equation of state relates the pressure, density, and temperature of a fluid, providing a thermodynamic relationship necessary for solving the governing equations of fluid flow. By understanding this relationship, scientists and engineers can better predict and analyze the behavior of fluids in different conditions\n",
        "    \n",
        "    $p = p(ρ,T)$\n",
        "\n",
        "This expression represents the equation of state in its general form, where the pressure$ p $is a function of both density$ ρ$ and temperature $T$. It signifies that the pressure within the fluid depends on its density and temperature, and the specific functional relationship between these variables varies depending on the properties of the fluid\n",
        "\n",
        "  \n",
        "\n",
        "  \n"
      ]
    },
    {
      "cell_type": "markdown",
      "metadata": {
        "id": "pZ3FOtDscR4f"
      },
      "source": [
        "\n",
        "**2. Assumptions and Simplifications in CFD:**\n",
        "\n",
        "  As we journey onward, we encounter the art of making assumptions and simplifications in CFD. By assuming incompressible flow or treating fluids as Newtonian, scientists can make complex simulations more manageable without sacrificing accuracy\n",
        "\n",
        "- **Incompressible Flow**: Many CFD simulations assume incompressible flow, where the density of the fluid remains constant. This simplification is valid for low-speed flows where density variations are negligible.\n",
        "\n",
        "- **Newtonian Fluids**: CFD often assumes that fluids behave as Newtonian fluids, meaning their viscosity is constant and independent of the shear rate. This assumption holds true for many common fluids like water and air.\n",
        "\n",
        "- **Steady-State vs. Transient Flow**: CFD simulations may be conducted under steady-state conditions, where flow properties remain constant over time, or transient conditions, where flow properties change with time. The choice depends on the nature of the problem being studied.\n"
      ]
    },
    {
      "cell_type": "markdown",
      "metadata": {
        "id": "-_To4XYWcXBh"
      },
      "source": [
        "**3. Challenges and Limitations of CFD:**\n",
        "\n",
        "- **Computational Resources**: CFD simulations can be computationally intensive, requiring substantial computational resources and time, especially for complex geometries and transient phenomena.\n",
        "\n",
        "- **Turbulence Modeling**: Turbulent flows pose challenges in CFD due to their chaotic nature. Various turbulence models, such as the k-epsilon model or Large Eddy Simulation (LES), are employed to predict turbulence effects accurately.\n",
        "\n",
        "- **Validation and Verification**: Validating CFD simulations against experimental data is crucial to ensure their accuracy and reliability. However, experimental validation may be challenging or impractical in certain cases, leading to uncertainties in the simulation results"
      ]
    },
    {
      "cell_type": "markdown",
      "metadata": {
        "id": "yri7Tw3Dq_FM"
      },
      "source": [
        "# Congratulations! Time to join the Community!\n",
        "\n",
        "Congratulations on completing this tutorial notebook! If you enjoyed working through the tutorial, and want to continue working with DeepChem, we encourage you to finish the rest of the tutorials in this series. You can also help the DeepChem community in the following ways:\n",
        "\n",
        "## Star DeepChem on [GitHub](https://github.com/deepchem/deepchem)\n",
        "This helps build awareness of the DeepChem project and the tools for open source drug discovery that we're trying to build.\n",
        "\n",
        "## Join the DeepChem Gitter\n",
        "The DeepChem [Gitter](https://gitter.im/deepchem/Lobby) hosts a number of scientists, developers, and enthusiasts interested in deep learning for the life sciences. Join the conversation!"
      ]
    }
  ],
  "metadata": {
    "colab": {
      "provenance": []
    },
    "kernelspec": {
      "display_name": "Python 3",
      "name": "python3"
    },
    "language_info": {
      "name": "python"
    }
  },
  "nbformat": 4,
  "nbformat_minor": 0
}
